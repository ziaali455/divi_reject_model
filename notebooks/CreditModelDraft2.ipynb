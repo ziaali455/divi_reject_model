{
 "cells": [
  {
   "cell_type": "markdown",
   "metadata": {},
   "source": [
    "# Second Draft Of Credit Model - Auto Rejection and Naive Loan + Monthly Interest"
   ]
  },
  {
   "cell_type": "markdown",
   "metadata": {},
   "source": [
    "### The second draft of this model will be comprised of two separate models, an auto rejector and a naive loan and monthly interest reccomender."
   ]
  },
  {
   "cell_type": "markdown",
   "metadata": {},
   "source": [
    "### Parameters:\n",
    "(Auto Rejection)\n",
    "- Age of company\n",
    "- Growth%\n",
    "- More parameters TBD (waiting on Ana's Superset query)\n",
    "\n",
    "(Naive Loan + Interest)\n",
    "- Age of company\n",
    "- Initial reported revenue \n",
    "\n",
    "### Outputs:\n",
    "(Auto Rejection)\n",
    "- True/False rejection\n",
    "\n",
    "(Naive Loan + Interest)\n",
    "- Initial loan amount offer (gross_value)\n",
    "- Monthly interest offer"
   ]
  },
  {
   "cell_type": "markdown",
   "metadata": {},
   "source": [
    "### Data Used:\n",
    "(Auto Rejection)\n",
    "- Background checker data from Ana's Superset Query \n",
    "- Accounts.json taken from HTTPS Postman get request\n",
    "\n",
    "(Naive Loan + Interest)\n",
    "- Query of current clients via superset\n",
    "- Gian's monthly growth calculations"
   ]
  },
  {
   "cell_type": "markdown",
   "metadata": {},
   "source": [
    "### Helpful People:\n",
    "- Hugo, Will, Well, Vini S, Vini R, Vitor, Gian, Ana, Caruba, Prando, Todos!"
   ]
  },
  {
   "cell_type": "markdown",
   "metadata": {},
   "source": [
    "## General Data Cleaning and Imports"
   ]
  },
  {
   "cell_type": "code",
   "execution_count": 1,
   "metadata": {},
   "outputs": [
    {
     "data": {
      "text/html": [
       "<div>\n",
       "<style scoped>\n",
       "    .dataframe tbody tr th:only-of-type {\n",
       "        vertical-align: middle;\n",
       "    }\n",
       "\n",
       "    .dataframe tbody tr th {\n",
       "        vertical-align: top;\n",
       "    }\n",
       "\n",
       "    .dataframe thead th {\n",
       "        text-align: right;\n",
       "    }\n",
       "</style>\n",
       "<table border=\"1\" class=\"dataframe\">\n",
       "  <thead>\n",
       "    <tr style=\"text-align: right;\">\n",
       "      <th></th>\n",
       "      <th>account_nickname</th>\n",
       "      <th>cnpj</th>\n",
       "      <th>age</th>\n",
       "      <th>initial_reported_revenue</th>\n",
       "      <th>rating</th>\n",
       "      <th>gross_value</th>\n",
       "      <th>monthly_interest_rate</th>\n",
       "    </tr>\n",
       "  </thead>\n",
       "  <tbody>\n",
       "    <tr>\n",
       "      <th>0</th>\n",
       "      <td>100 Foods</td>\n",
       "      <td>27997623000137</td>\n",
       "      <td>6.438131</td>\n",
       "      <td>93069.00</td>\n",
       "      <td>B</td>\n",
       "      <td>10367.31</td>\n",
       "      <td>2.00</td>\n",
       "    </tr>\n",
       "    <tr>\n",
       "      <th>1</th>\n",
       "      <td>1Recado</td>\n",
       "      <td>34424334000104</td>\n",
       "      <td>3.968539</td>\n",
       "      <td>14045.92</td>\n",
       "      <td>B</td>\n",
       "      <td>10367.42</td>\n",
       "      <td>2.00</td>\n",
       "    </tr>\n",
       "    <tr>\n",
       "      <th>2</th>\n",
       "      <td>4k Cosmetics</td>\n",
       "      <td>33113626000163</td>\n",
       "      <td>4.340894</td>\n",
       "      <td>24751.71</td>\n",
       "      <td>CC</td>\n",
       "      <td>2113.86</td>\n",
       "      <td>2.65</td>\n",
       "    </tr>\n",
       "    <tr>\n",
       "      <th>3</th>\n",
       "      <td>ADVBOX</td>\n",
       "      <td>30750260000145</td>\n",
       "      <td>5.093819</td>\n",
       "      <td>193023.15</td>\n",
       "      <td>BBB</td>\n",
       "      <td>31280.26</td>\n",
       "      <td>2.00</td>\n",
       "    </tr>\n",
       "    <tr>\n",
       "      <th>4</th>\n",
       "      <td>AGENCIA LEAD</td>\n",
       "      <td>31410323000187</td>\n",
       "      <td>4.915855</td>\n",
       "      <td>19673.92</td>\n",
       "      <td>CC</td>\n",
       "      <td>5183.83</td>\n",
       "      <td>2.50</td>\n",
       "    </tr>\n",
       "    <tr>\n",
       "      <th>...</th>\n",
       "      <td>...</td>\n",
       "      <td>...</td>\n",
       "      <td>...</td>\n",
       "      <td>...</td>\n",
       "      <td>...</td>\n",
       "      <td>...</td>\n",
       "      <td>...</td>\n",
       "    </tr>\n",
       "    <tr>\n",
       "      <th>109</th>\n",
       "      <td>YOUBECOME</td>\n",
       "      <td>25464755000178</td>\n",
       "      <td>6.950120</td>\n",
       "      <td>77415.00</td>\n",
       "      <td>CC</td>\n",
       "      <td>5234.15</td>\n",
       "      <td>2.75</td>\n",
       "    </tr>\n",
       "    <tr>\n",
       "      <th>110</th>\n",
       "      <td>Yes We Grow</td>\n",
       "      <td>26624044000186</td>\n",
       "      <td>6.648950</td>\n",
       "      <td>378691.98</td>\n",
       "      <td>BBB</td>\n",
       "      <td>105880.59</td>\n",
       "      <td>1.65</td>\n",
       "    </tr>\n",
       "    <tr>\n",
       "      <th>111</th>\n",
       "      <td>Yori Cosméticos e Beleza</td>\n",
       "      <td>32615057000191</td>\n",
       "      <td>4.480527</td>\n",
       "      <td>10456.62</td>\n",
       "      <td>CC</td>\n",
       "      <td>2080.00</td>\n",
       "      <td>2.90</td>\n",
       "    </tr>\n",
       "    <tr>\n",
       "      <th>112</th>\n",
       "      <td>iKEG</td>\n",
       "      <td>29973569000115</td>\n",
       "      <td>5.348444</td>\n",
       "      <td>717750.56</td>\n",
       "      <td>BBB</td>\n",
       "      <td>45450.00</td>\n",
       "      <td>2.00</td>\n",
       "    </tr>\n",
       "    <tr>\n",
       "      <th>113</th>\n",
       "      <td>ÓPTICA CENTER</td>\n",
       "      <td>27659578000100</td>\n",
       "      <td>6.221836</td>\n",
       "      <td>159000.00</td>\n",
       "      <td>C</td>\n",
       "      <td>3140.49</td>\n",
       "      <td>3.15</td>\n",
       "    </tr>\n",
       "  </tbody>\n",
       "</table>\n",
       "<p>114 rows × 7 columns</p>\n",
       "</div>"
      ],
      "text/plain": [
       "             account_nickname            cnpj       age  \\\n",
       "0                   100 Foods  27997623000137  6.438131   \n",
       "1                     1Recado  34424334000104  3.968539   \n",
       "2                4k Cosmetics  33113626000163  4.340894   \n",
       "3                      ADVBOX  30750260000145  5.093819   \n",
       "4                AGENCIA LEAD  31410323000187  4.915855   \n",
       "..                        ...             ...       ...   \n",
       "109                 YOUBECOME  25464755000178  6.950120   \n",
       "110              Yes We Grow   26624044000186  6.648950   \n",
       "111  Yori Cosméticos e Beleza  32615057000191  4.480527   \n",
       "112                      iKEG  29973569000115  5.348444   \n",
       "113             ÓPTICA CENTER  27659578000100  6.221836   \n",
       "\n",
       "     initial_reported_revenue rating  gross_value  monthly_interest_rate  \n",
       "0                    93069.00      B     10367.31                   2.00  \n",
       "1                    14045.92      B     10367.42                   2.00  \n",
       "2                    24751.71     CC      2113.86                   2.65  \n",
       "3                   193023.15    BBB     31280.26                   2.00  \n",
       "4                    19673.92     CC      5183.83                   2.50  \n",
       "..                        ...    ...          ...                    ...  \n",
       "109                  77415.00     CC      5234.15                   2.75  \n",
       "110                 378691.98    BBB    105880.59                   1.65  \n",
       "111                  10456.62     CC      2080.00                   2.90  \n",
       "112                 717750.56    BBB     45450.00                   2.00  \n",
       "113                 159000.00      C      3140.49                   3.15  \n",
       "\n",
       "[114 rows x 7 columns]"
      ]
     },
     "execution_count": 1,
     "metadata": {},
     "output_type": "execute_result"
    }
   ],
   "source": [
    "import pandas as pd\n",
    "import numpy as np\n",
    "import json\n",
    "\n",
    "#Loading and cleaning the Auto Rejection data\n",
    "json_file_path = \"/Users/alizia/AliDivi/proof-of-concept/datasets/dummyDataFinal.json\"\n",
    "bc_accounts = pd.read_json(json_file_path)\n",
    "\n",
    "json_file_path = \"insert Ana's superset query on rejected clients here\"\n",
    "#bc_accounts_with_rejections = pd.read_json(json_file_path)\n",
    "\n",
    "#Loading and cleaning the Naive Loan/Interest data\n",
    "json_file_path = \"/Users/alizia/AliDivi/proof-of-concept/datasets/clients_given_offer.json\"\n",
    "clients_given_offer = pd.read_json(json_file_path)\n",
    "clients_given_offer"
   ]
  },
  {
   "cell_type": "markdown",
   "metadata": {},
   "source": [
    "## Auto Rejection Model and Evaluation"
   ]
  },
  {
   "cell_type": "markdown",
   "metadata": {},
   "source": [
    "Currently waiting on Ana's query of all companies Divi has evaluated."
   ]
  },
  {
   "cell_type": "markdown",
   "metadata": {},
   "source": [
    "## Naive Loan + Interest Models and Evaluation"
   ]
  },
  {
   "cell_type": "code",
   "execution_count": 2,
   "metadata": {},
   "outputs": [],
   "source": [
    "clients_given_offer\n",
    "clients_given_offer = clients_given_offer.rename(columns={\"initial_reported_revenue_x\": \"initial_reported_revenue\"})\n"
   ]
  },
  {
   "cell_type": "code",
   "execution_count": 3,
   "metadata": {},
   "outputs": [
    {
     "data": {
      "text/html": [
       "<div>\n",
       "<style scoped>\n",
       "    .dataframe tbody tr th:only-of-type {\n",
       "        vertical-align: middle;\n",
       "    }\n",
       "\n",
       "    .dataframe tbody tr th {\n",
       "        vertical-align: top;\n",
       "    }\n",
       "\n",
       "    .dataframe thead th {\n",
       "        text-align: right;\n",
       "    }\n",
       "</style>\n",
       "<table border=\"1\" class=\"dataframe\">\n",
       "  <thead>\n",
       "    <tr style=\"text-align: right;\">\n",
       "      <th></th>\n",
       "      <th>account_nickname</th>\n",
       "      <th>cnpj</th>\n",
       "      <th>age</th>\n",
       "      <th>initial_reported_revenue</th>\n",
       "      <th>gross_value</th>\n",
       "      <th>monthly_interest_rate</th>\n",
       "    </tr>\n",
       "  </thead>\n",
       "  <tbody>\n",
       "    <tr>\n",
       "      <th>0</th>\n",
       "      <td>100 Foods</td>\n",
       "      <td>27997623000137</td>\n",
       "      <td>6.438131</td>\n",
       "      <td>93069.00</td>\n",
       "      <td>10367.31</td>\n",
       "      <td>2.00</td>\n",
       "    </tr>\n",
       "    <tr>\n",
       "      <th>1</th>\n",
       "      <td>1Recado</td>\n",
       "      <td>34424334000104</td>\n",
       "      <td>3.968539</td>\n",
       "      <td>14045.92</td>\n",
       "      <td>10367.42</td>\n",
       "      <td>2.00</td>\n",
       "    </tr>\n",
       "    <tr>\n",
       "      <th>2</th>\n",
       "      <td>4k Cosmetics</td>\n",
       "      <td>33113626000163</td>\n",
       "      <td>4.340894</td>\n",
       "      <td>24751.71</td>\n",
       "      <td>2113.86</td>\n",
       "      <td>2.65</td>\n",
       "    </tr>\n",
       "    <tr>\n",
       "      <th>3</th>\n",
       "      <td>ADVBOX</td>\n",
       "      <td>30750260000145</td>\n",
       "      <td>5.093819</td>\n",
       "      <td>193023.15</td>\n",
       "      <td>31280.26</td>\n",
       "      <td>2.00</td>\n",
       "    </tr>\n",
       "    <tr>\n",
       "      <th>4</th>\n",
       "      <td>AGENCIA LEAD</td>\n",
       "      <td>31410323000187</td>\n",
       "      <td>4.915855</td>\n",
       "      <td>19673.92</td>\n",
       "      <td>5183.83</td>\n",
       "      <td>2.50</td>\n",
       "    </tr>\n",
       "    <tr>\n",
       "      <th>...</th>\n",
       "      <td>...</td>\n",
       "      <td>...</td>\n",
       "      <td>...</td>\n",
       "      <td>...</td>\n",
       "      <td>...</td>\n",
       "      <td>...</td>\n",
       "    </tr>\n",
       "    <tr>\n",
       "      <th>109</th>\n",
       "      <td>YOUBECOME</td>\n",
       "      <td>25464755000178</td>\n",
       "      <td>6.950120</td>\n",
       "      <td>77415.00</td>\n",
       "      <td>5234.15</td>\n",
       "      <td>2.75</td>\n",
       "    </tr>\n",
       "    <tr>\n",
       "      <th>110</th>\n",
       "      <td>Yes We Grow</td>\n",
       "      <td>26624044000186</td>\n",
       "      <td>6.648950</td>\n",
       "      <td>378691.98</td>\n",
       "      <td>105880.59</td>\n",
       "      <td>1.65</td>\n",
       "    </tr>\n",
       "    <tr>\n",
       "      <th>111</th>\n",
       "      <td>Yori Cosméticos e Beleza</td>\n",
       "      <td>32615057000191</td>\n",
       "      <td>4.480527</td>\n",
       "      <td>10456.62</td>\n",
       "      <td>2080.00</td>\n",
       "      <td>2.90</td>\n",
       "    </tr>\n",
       "    <tr>\n",
       "      <th>112</th>\n",
       "      <td>iKEG</td>\n",
       "      <td>29973569000115</td>\n",
       "      <td>5.348444</td>\n",
       "      <td>717750.56</td>\n",
       "      <td>45450.00</td>\n",
       "      <td>2.00</td>\n",
       "    </tr>\n",
       "    <tr>\n",
       "      <th>113</th>\n",
       "      <td>ÓPTICA CENTER</td>\n",
       "      <td>27659578000100</td>\n",
       "      <td>6.221836</td>\n",
       "      <td>159000.00</td>\n",
       "      <td>3140.49</td>\n",
       "      <td>3.15</td>\n",
       "    </tr>\n",
       "  </tbody>\n",
       "</table>\n",
       "<p>114 rows × 6 columns</p>\n",
       "</div>"
      ],
      "text/plain": [
       "             account_nickname            cnpj       age  \\\n",
       "0                   100 Foods  27997623000137  6.438131   \n",
       "1                     1Recado  34424334000104  3.968539   \n",
       "2                4k Cosmetics  33113626000163  4.340894   \n",
       "3                      ADVBOX  30750260000145  5.093819   \n",
       "4                AGENCIA LEAD  31410323000187  4.915855   \n",
       "..                        ...             ...       ...   \n",
       "109                 YOUBECOME  25464755000178  6.950120   \n",
       "110              Yes We Grow   26624044000186  6.648950   \n",
       "111  Yori Cosméticos e Beleza  32615057000191  4.480527   \n",
       "112                      iKEG  29973569000115  5.348444   \n",
       "113             ÓPTICA CENTER  27659578000100  6.221836   \n",
       "\n",
       "     initial_reported_revenue  gross_value  monthly_interest_rate  \n",
       "0                    93069.00     10367.31                   2.00  \n",
       "1                    14045.92     10367.42                   2.00  \n",
       "2                    24751.71      2113.86                   2.65  \n",
       "3                   193023.15     31280.26                   2.00  \n",
       "4                    19673.92      5183.83                   2.50  \n",
       "..                        ...          ...                    ...  \n",
       "109                  77415.00      5234.15                   2.75  \n",
       "110                 378691.98    105880.59                   1.65  \n",
       "111                  10456.62      2080.00                   2.90  \n",
       "112                 717750.56     45450.00                   2.00  \n",
       "113                 159000.00      3140.49                   3.15  \n",
       "\n",
       "[114 rows x 6 columns]"
      ]
     },
     "execution_count": 3,
     "metadata": {},
     "output_type": "execute_result"
    }
   ],
   "source": [
    "naive_data = clients_given_offer[['account_nickname', 'cnpj', 'age', 'initial_reported_revenue', 'gross_value', 'monthly_interest_rate']].copy()\n",
    "naive_data"
   ]
  },
  {
   "cell_type": "code",
   "execution_count": 4,
   "metadata": {},
   "outputs": [],
   "source": [
    "X = naive_data[['age', 'initial_reported_revenue']]\n",
    "y = naive_data[['gross_value', 'monthly_interest_rate']]"
   ]
  },
  {
   "cell_type": "markdown",
   "metadata": {},
   "source": [
    "### K Neighbors"
   ]
  },
  {
   "cell_type": "code",
   "execution_count": 5,
   "metadata": {},
   "outputs": [],
   "source": [
    "def naive_kneighbors():\n",
    "    from sklearn.neighbors import KNeighborsRegressor\n",
    "    from sklearn.model_selection import train_test_split\n",
    "    model = KNeighborsRegressor()\n",
    "    X = naive_data[['age', 'initial_reported_revenue']]\n",
    "    y = naive_data[['gross_value', 'monthly_interest_rate']]\n",
    "    X_train, X_test, y_train, y_test = train_test_split(X, y, test_size = 0.2, random_state=100)\n",
    "    model.fit(X_train,y_train)\n",
    "    print(model.score(X_test,y_test))\n"
   ]
  },
  {
   "cell_type": "code",
   "execution_count": 6,
   "metadata": {},
   "outputs": [
    {
     "name": "stdout",
     "output_type": "stream",
     "text": [
      "0.3999203566872057\n"
     ]
    }
   ],
   "source": [
    "naive_kneighbors()"
   ]
  },
  {
   "cell_type": "markdown",
   "metadata": {},
   "source": [
    "### LinearRegressor"
   ]
  },
  {
   "cell_type": "code",
   "execution_count": 7,
   "metadata": {},
   "outputs": [],
   "source": [
    "def naive_linreg():\n",
    "    from sklearn.linear_model import LinearRegression\n",
    "    from sklearn.model_selection import train_test_split\n",
    "    model = LinearRegression()\n",
    "    X_train, X_test, y_train, y_test = train_test_split(X, y, test_size = 0.2, random_state=100)\n",
    "    model.fit(X_train,y_train)\n",
    "    print(model.score(X_test,y_test))"
   ]
  },
  {
   "cell_type": "code",
   "execution_count": 8,
   "metadata": {},
   "outputs": [
    {
     "name": "stdout",
     "output_type": "stream",
     "text": [
      "0.28300424080807296\n"
     ]
    }
   ],
   "source": [
    "naive_linreg()"
   ]
  },
  {
   "cell_type": "markdown",
   "metadata": {},
   "source": [
    "So far, these scores don't seem too great. Let's use MultiOutputRegressor to see if these parameters are mostly independent of each other and not good indicators of a solid model."
   ]
  },
  {
   "cell_type": "markdown",
   "metadata": {},
   "source": [
    "### KNeighbors Eval"
   ]
  },
  {
   "cell_type": "code",
   "execution_count": 9,
   "metadata": {},
   "outputs": [],
   "source": [
    "def kneighbors_approach_eval(X, y):\n",
    "    # example of evaluating direct multioutput regression with an SVM model\n",
    "    from sklearn.neighbors import KNeighborsRegressor\n",
    "    from sklearn.model_selection import train_test_split\n",
    "    from sklearn.multioutput import MultiOutputRegressor\n",
    "    from sklearn.model_selection import RepeatedKFold\n",
    "    from sklearn.model_selection import cross_val_score\n",
    "    from numpy import absolute\n",
    "    from numpy import mean\n",
    "    from numpy import std\n",
    "\n",
    "    model = KNeighborsRegressor()\n",
    "    wrapper = MultiOutputRegressor(model)\n",
    "    cv = RepeatedKFold(n_splits=10, n_repeats=3, random_state=1)\n",
    "    n_scores = cross_val_score(wrapper, X, y, scoring='neg_mean_absolute_error', cv=cv, n_jobs=-1)\n",
    "    n_scores = absolute(n_scores)\n",
    "    print('MAE: %.3f (%.3f)' % (mean(n_scores), std(n_scores)))\n"
   ]
  },
  {
   "cell_type": "code",
   "execution_count": 10,
   "metadata": {},
   "outputs": [
    {
     "name": "stdout",
     "output_type": "stream",
     "text": [
      "MAE: 54376.777 (31369.674)\n"
     ]
    }
   ],
   "source": [
    "kneighbors_approach_eval(X, y)"
   ]
  },
  {
   "cell_type": "code",
   "execution_count": 11,
   "metadata": {},
   "outputs": [
    {
     "name": "stdout",
     "output_type": "stream",
     "text": [
      "                               age  initial_reported_revenue  gross_value  \\\n",
      "age                       1.000000                  0.106551     0.099923   \n",
      "initial_reported_revenue  0.106551                  1.000000     0.722570   \n",
      "gross_value               0.099923                  0.722570     1.000000   \n",
      "monthly_interest_rate    -0.310012                 -0.260995    -0.326858   \n",
      "\n",
      "                          monthly_interest_rate  \n",
      "age                                   -0.310012  \n",
      "initial_reported_revenue              -0.260995  \n",
      "gross_value                           -0.326858  \n",
      "monthly_interest_rate                  1.000000  \n"
     ]
    }
   ],
   "source": [
    "def corr_matrix_kneighbors():\n",
    "    corr_matrix = naive_data.drop(columns=[\"account_nickname\", \"cnpj\"]).corr()\n",
    "    print(corr_matrix)\n",
    "\n",
    "corr_matrix_kneighbors()"
   ]
  },
  {
   "cell_type": "markdown",
   "metadata": {},
   "source": [
    "Something went wrong here. Either the model is very bad or my evaluation is broken."
   ]
  },
  {
   "cell_type": "markdown",
   "metadata": {},
   "source": [
    "## The Issue and Solutions"
   ]
  },
  {
   "cell_type": "markdown",
   "metadata": {},
   "source": [
    "One clear issue is the lack of rows in the data set. No matter how many columns we add, there just arent enough rows for training for us to say that each form of regression is good or bad yet. Waiting for more data from Prando/Ana"
   ]
  },
  {
   "cell_type": "markdown",
   "metadata": {},
   "source": [
    "### In the meantime..."
   ]
  },
  {
   "cell_type": "markdown",
   "metadata": {},
   "source": [
    "Let's try hyper parameters for the models that might be useful to the naive loan + monthly interest model."
   ]
  },
  {
   "cell_type": "code",
   "execution_count": 12,
   "metadata": {},
   "outputs": [
    {
     "name": "stdout",
     "output_type": "stream",
     "text": [
      "0.28300424080807296\n"
     ]
    }
   ],
   "source": [
    "def naive_linreg_v2():\n",
    "    from sklearn.linear_model import LinearRegression\n",
    "    from sklearn.model_selection import train_test_split\n",
    "    model = LinearRegression()\n",
    "    X = naive_data[['age', 'initial_reported_revenue']]\n",
    "    y = naive_data[['gross_value', 'monthly_interest_rate']]\n",
    "    X_train, X_test, y_train, y_test = train_test_split(X, y, test_size = 0.2, random_state=100)\n",
    "    model.fit(X_train,y_train)\n",
    "    print(model.score(X_test,y_test))\n",
    "naive_linreg_v2()"
   ]
  },
  {
   "cell_type": "markdown",
   "metadata": {},
   "source": [
    "We can't hyper parametrize lin reg, so let's move onto k neighbors"
   ]
  },
  {
   "cell_type": "code",
   "execution_count": 13,
   "metadata": {},
   "outputs": [],
   "source": [
    "def hyperparameters():\n",
    "    from sklearn.neighbors import KNeighborsRegressor\n",
    "    from sklearn.model_selection import train_test_split\n",
    "    from sklearn.model_selection import GridSearchCV\n",
    "\n",
    "    #List Hyperparameters that we want to tune.\n",
    "    leaf_size = list(range(1,50))\n",
    "    n_neighbors = list(range(1,30))\n",
    "    p=[1,2]\n",
    "    #Convert to dictionary\n",
    "    hyperparameters = dict(leaf_size=leaf_size, n_neighbors=n_neighbors, p=p)\n",
    "    #Create new KNN object\n",
    "    knn_2 = KNeighborsRegressor()\n",
    "    #Use GridSearch\n",
    "    clf = GridSearchCV(knn_2, hyperparameters, cv=10)\n",
    "    #Fit the model\n",
    "    best_model = clf.fit(X,y)\n",
    "    #Print The value of best Hyperparameters\n",
    "    print('Best leaf_size:', best_model.best_estimator_.get_params()['leaf_size'])\n",
    "    print('Best p:', best_model.best_estimator_.get_params()['p'])\n",
    "    print('Best n_neighbors:', best_model.best_estimator_.get_params()['n_neighbors'])\n"
   ]
  },
  {
   "cell_type": "markdown",
   "metadata": {},
   "source": [
    "This also does not work :/"
   ]
  },
  {
   "cell_type": "markdown",
   "metadata": {},
   "source": [
    "The next best thing would be to do some feature engineering (switching up the inputs and outputs in hopes for better scores). Let's start with simplifying the output of Lin Reg:"
   ]
  },
  {
   "cell_type": "code",
   "execution_count": 14,
   "metadata": {},
   "outputs": [
    {
     "name": "stdout",
     "output_type": "stream",
     "text": [
      "0.44636301469802286\n"
     ]
    }
   ],
   "source": [
    "def naive_linreg_v2_simpler():\n",
    "    naive_data_copy = naive_data\n",
    "    from sklearn.linear_model import LinearRegression\n",
    "    from sklearn.model_selection import train_test_split\n",
    "    model = LinearRegression()\n",
    "    X = naive_data_copy[['age', 'initial_reported_revenue']]\n",
    "    y = naive_data_copy[['gross_value']]\n",
    "    X_train, X_test, y_train, y_test = train_test_split(X, y, test_size = 0.2, random_state=100)\n",
    "    model.fit(X_train,y_train)\n",
    "    print(model.score(X_test,y_test))\n",
    "naive_linreg_v2_simpler()"
   ]
  },
  {
   "cell_type": "markdown",
   "metadata": {},
   "source": [
    "#### A lot better! Let's see if we can add more parameters to the inputs too."
   ]
  },
  {
   "cell_type": "code",
   "execution_count": 31,
   "metadata": {},
   "outputs": [
    {
     "data": {
      "text/html": [
       "<div>\n",
       "<style scoped>\n",
       "    .dataframe tbody tr th:only-of-type {\n",
       "        vertical-align: middle;\n",
       "    }\n",
       "\n",
       "    .dataframe tbody tr th {\n",
       "        vertical-align: top;\n",
       "    }\n",
       "\n",
       "    .dataframe thead th {\n",
       "        text-align: right;\n",
       "    }\n",
       "</style>\n",
       "<table border=\"1\" class=\"dataframe\">\n",
       "  <thead>\n",
       "    <tr style=\"text-align: right;\">\n",
       "      <th></th>\n",
       "      <th>account_nickname</th>\n",
       "      <th>cnpj</th>\n",
       "      <th>age</th>\n",
       "      <th>initial_reported_revenue</th>\n",
       "      <th>rating</th>\n",
       "      <th>gross_value</th>\n",
       "      <th>monthly_interest_rate</th>\n",
       "    </tr>\n",
       "  </thead>\n",
       "  <tbody>\n",
       "    <tr>\n",
       "      <th>0</th>\n",
       "      <td>100 Foods</td>\n",
       "      <td>27997623000137</td>\n",
       "      <td>6.438136</td>\n",
       "      <td>93069.00</td>\n",
       "      <td>B</td>\n",
       "      <td>10367.31</td>\n",
       "      <td>2.00</td>\n",
       "    </tr>\n",
       "    <tr>\n",
       "      <th>1</th>\n",
       "      <td>1Recado</td>\n",
       "      <td>34424334000104</td>\n",
       "      <td>3.968544</td>\n",
       "      <td>14045.92</td>\n",
       "      <td>B</td>\n",
       "      <td>10367.42</td>\n",
       "      <td>2.00</td>\n",
       "    </tr>\n",
       "    <tr>\n",
       "      <th>2</th>\n",
       "      <td>4k Cosmetics</td>\n",
       "      <td>33113626000163</td>\n",
       "      <td>4.340899</td>\n",
       "      <td>24751.71</td>\n",
       "      <td>CC</td>\n",
       "      <td>2113.86</td>\n",
       "      <td>2.65</td>\n",
       "    </tr>\n",
       "    <tr>\n",
       "      <th>3</th>\n",
       "      <td>ADVBOX</td>\n",
       "      <td>30750260000145</td>\n",
       "      <td>5.093824</td>\n",
       "      <td>193023.15</td>\n",
       "      <td>BBB</td>\n",
       "      <td>31280.26</td>\n",
       "      <td>2.00</td>\n",
       "    </tr>\n",
       "    <tr>\n",
       "      <th>4</th>\n",
       "      <td>AGENCIA LEAD</td>\n",
       "      <td>31410323000187</td>\n",
       "      <td>4.915860</td>\n",
       "      <td>19673.92</td>\n",
       "      <td>CC</td>\n",
       "      <td>5183.83</td>\n",
       "      <td>2.50</td>\n",
       "    </tr>\n",
       "    <tr>\n",
       "      <th>...</th>\n",
       "      <td>...</td>\n",
       "      <td>...</td>\n",
       "      <td>...</td>\n",
       "      <td>...</td>\n",
       "      <td>...</td>\n",
       "      <td>...</td>\n",
       "      <td>...</td>\n",
       "    </tr>\n",
       "    <tr>\n",
       "      <th>109</th>\n",
       "      <td>YOUBECOME</td>\n",
       "      <td>25464755000178</td>\n",
       "      <td>6.950125</td>\n",
       "      <td>77415.00</td>\n",
       "      <td>CC</td>\n",
       "      <td>5234.15</td>\n",
       "      <td>2.75</td>\n",
       "    </tr>\n",
       "    <tr>\n",
       "      <th>110</th>\n",
       "      <td>Yes We Grow</td>\n",
       "      <td>26624044000186</td>\n",
       "      <td>6.648955</td>\n",
       "      <td>378691.98</td>\n",
       "      <td>BBB</td>\n",
       "      <td>105880.59</td>\n",
       "      <td>1.65</td>\n",
       "    </tr>\n",
       "    <tr>\n",
       "      <th>111</th>\n",
       "      <td>Yori Cosméticos e Beleza</td>\n",
       "      <td>32615057000191</td>\n",
       "      <td>4.480533</td>\n",
       "      <td>10456.62</td>\n",
       "      <td>CC</td>\n",
       "      <td>2080.00</td>\n",
       "      <td>2.90</td>\n",
       "    </tr>\n",
       "    <tr>\n",
       "      <th>112</th>\n",
       "      <td>iKEG</td>\n",
       "      <td>29973569000115</td>\n",
       "      <td>5.348449</td>\n",
       "      <td>717750.56</td>\n",
       "      <td>BBB</td>\n",
       "      <td>45450.00</td>\n",
       "      <td>2.00</td>\n",
       "    </tr>\n",
       "    <tr>\n",
       "      <th>113</th>\n",
       "      <td>ÓPTICA CENTER</td>\n",
       "      <td>27659578000100</td>\n",
       "      <td>6.221841</td>\n",
       "      <td>159000.00</td>\n",
       "      <td>C</td>\n",
       "      <td>3140.49</td>\n",
       "      <td>3.15</td>\n",
       "    </tr>\n",
       "  </tbody>\n",
       "</table>\n",
       "<p>114 rows × 7 columns</p>\n",
       "</div>"
      ],
      "text/plain": [
       "             account_nickname            cnpj       age  \\\n",
       "0                   100 Foods  27997623000137  6.438136   \n",
       "1                     1Recado  34424334000104  3.968544   \n",
       "2                4k Cosmetics  33113626000163  4.340899   \n",
       "3                      ADVBOX  30750260000145  5.093824   \n",
       "4                AGENCIA LEAD  31410323000187  4.915860   \n",
       "..                        ...             ...       ...   \n",
       "109                 YOUBECOME  25464755000178  6.950125   \n",
       "110              Yes We Grow   26624044000186  6.648955   \n",
       "111  Yori Cosméticos e Beleza  32615057000191  4.480533   \n",
       "112                      iKEG  29973569000115  5.348449   \n",
       "113             ÓPTICA CENTER  27659578000100  6.221841   \n",
       "\n",
       "     initial_reported_revenue rating  gross_value  monthly_interest_rate  \n",
       "0                    93069.00      B     10367.31                   2.00  \n",
       "1                    14045.92      B     10367.42                   2.00  \n",
       "2                    24751.71     CC      2113.86                   2.65  \n",
       "3                   193023.15    BBB     31280.26                   2.00  \n",
       "4                    19673.92     CC      5183.83                   2.50  \n",
       "..                        ...    ...          ...                    ...  \n",
       "109                  77415.00     CC      5234.15                   2.75  \n",
       "110                 378691.98    BBB    105880.59                   1.65  \n",
       "111                  10456.62     CC      2080.00                   2.90  \n",
       "112                 717750.56    BBB     45450.00                   2.00  \n",
       "113                 159000.00      C      3140.49                   3.15  \n",
       "\n",
       "[114 rows x 7 columns]"
      ]
     },
     "execution_count": 31,
     "metadata": {},
     "output_type": "execute_result"
    }
   ],
   "source": [
    "\n",
    "from sklearn.linear_model import LinearRegression\n",
    "from sklearn.model_selection import train_test_split\n",
    "model = LinearRegression()\n",
    "json_file_path = \"/Users/alizia/AliDivi/proof-of-concept/datasets/clients_given_offer.json\"\n",
    "clients_given_offer = pd.read_json(json_file_path)\n",
    "# clients_given_offer['rating'] = clients_given_offer['rating'].rank(method='dense', ascending=False).astype(int)\n",
    "clients_given_offer\n",
    "# print(model.score(X_test,y_test))\n"
   ]
  },
  {
   "cell_type": "code",
   "execution_count": 16,
   "metadata": {},
   "outputs": [
    {
     "name": "stdout",
     "output_type": "stream",
     "text": [
      "0.4331487718218039\n"
     ]
    }
   ],
   "source": [
    "X = clients_given_offer[['age', 'initial_reported_revenue','rating']]\n",
    "y = clients_given_offer[['gross_value']]\n",
    "X_train, X_test, y_train, y_test = train_test_split(X, y, test_size = 0.2, random_state=100)\n",
    "model.fit(X_train,y_train)\n",
    "print(model.score(X_test,y_test))"
   ]
  },
  {
   "cell_type": "code",
   "execution_count": 17,
   "metadata": {},
   "outputs": [
    {
     "name": "stdout",
     "output_type": "stream",
     "text": [
      "0.4633029679145447\n"
     ]
    }
   ],
   "source": [
    "X = clients_given_offer[['age', 'initial_reported_revenue','rating']]\n",
    "y = clients_given_offer[['gross_value', 'monthly_interest_rate']]\n",
    "X_train, X_test, y_train, y_test = train_test_split(X, y, test_size = 0.2, random_state=100)\n",
    "model.fit(X_train,y_train)\n",
    "print(model.score(X_test,y_test))"
   ]
  },
  {
   "cell_type": "markdown",
   "metadata": {},
   "source": [
    "Adding credit rating alongside monthy interest rate seems to yield the most accurate results so far, but we can see that even with feature engineering, the score is not changing by much. Perhaps a different regressor is better. I will discuss this with Vini in our upcoming meeting"
   ]
  },
  {
   "cell_type": "markdown",
   "metadata": {},
   "source": []
  }
 ],
 "metadata": {
  "kernelspec": {
   "display_name": "Python 3.9.12 ('base')",
   "language": "python",
   "name": "python3"
  },
  "language_info": {
   "codemirror_mode": {
    "name": "ipython",
    "version": 3
   },
   "file_extension": ".py",
   "mimetype": "text/x-python",
   "name": "python",
   "nbconvert_exporter": "python",
   "pygments_lexer": "ipython3",
   "version": "3.9.12"
  },
  "orig_nbformat": 4,
  "vscode": {
   "interpreter": {
    "hash": "c5b5a9855db485b8f01412626f940df4d496b992c8b2f3fa128acac1322fe5d9"
   }
  }
 },
 "nbformat": 4,
 "nbformat_minor": 2
}
